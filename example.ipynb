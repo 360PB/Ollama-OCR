{
 "cells": [
  {
   "cell_type": "code",
   "execution_count": 4,
   "metadata": {},
   "outputs": [
    {
     "name": "stdout",
     "output_type": "stream",
     "text": [
      "# Invoice #1024\n",
      "\n",
      "## Billed To:\n",
      "\n",
      "- Really Great Company\n",
      "\n",
      "## Pay To:\n",
      "\n",
      "- Avery Davis\n",
      "123 Anywhere St., Any City\n",
      "123 456 7890\n",
      "\n",
      "## Bank Account Information:\n",
      "\n",
      "- Bank: Really Great Bank\n",
      "- Account Name: John Smith\n",
      "- BSB: 000 000\n",
      "- Account Number: 0000 0000\n",
      "\n",
      "## Invoice Details:\n",
      "\n",
      "### Description:\n",
      "- Content Plan: $200.00\n",
      "- Copy Writing: $100.00\n",
      "- Website Design: $250.00\n",
      "- Website Development: $500.00\n",
      "- SEO: $200.00\n",
      "\n",
      "### Subtotal: $1,250.00 (30% discount)\n",
      "- Total: $875.00\n",
      "\n",
      "## Payment Terms:\n",
      "\n",
      "- Payment is required within 14 business days of invoice date.\n",
      "- Please send remittance to hello@reallygreatsite.com.\n",
      "\n",
      "# Thank you for your business.\n"
     ]
    }
   ],
   "source": [
    "from ollama_ocr import OCRProcessor\n",
    "\n",
    "# Create an instance\n",
    "ocr = OCRProcessor(model_name='llama3.2-vision:11b')\n",
    "\n",
    "# Test with an image (replace with your image path)\n",
    "result = ocr.process_image(\n",
    "    image_path=\"input\\img.png\",\n",
    "    format_type=\"markdown\"\n",
    ")\n",
    "print(result)"
   ]
  },
  {
   "cell_type": "code",
   "execution_count": null,
   "metadata": {},
   "outputs": [],
   "source": [
    "from ollama_ocr import OCRProcessor\n",
    "\n",
    "# Create an instance\n",
    "ocr = OCRProcessor(model_name='llama3.2-vision:11b')\n",
    "\n"
   ]
  },
  {
   "cell_type": "code",
   "execution_count": null,
   "metadata": {},
   "outputs": [],
   "source": [
    "# Test with key-value format\n",
    "result = ocr.process_image(\n",
    "    image_path=\"input\\img.png\",\n",
    "    format_type=\"key_value\"\n",
    ")\n",
    "print(result)"
   ]
  },
  {
   "cell_type": "code",
   "execution_count": null,
   "metadata": {},
   "outputs": [],
   "source": [
    "# Text\n",
    "result = ocr.process_image(\n",
    "    image_path=\"input\\img.png\",\n",
    "    format_type=\"text\"\n",
    ")\n",
    "print(result)"
   ]
  },
  {
   "cell_type": "code",
   "execution_count": null,
   "metadata": {},
   "outputs": [],
   "source": [
    "#  json format\n",
    "result = ocr.process_image(\n",
    "    image_path=\"input\\img.png\",\n",
    "    format_type=\"json\"\n",
    ")\n",
    "print(result)"
   ]
  },
  {
   "cell_type": "code",
   "execution_count": null,
   "metadata": {},
   "outputs": [],
   "source": [
    "#  structured format\n",
    "result = ocr.process_image(\n",
    "    image_path=\"input\\img.png\",\n",
    "    format_type=\"structured\"\n",
    ")\n",
    "print(result)"
   ]
  }
 ],
 "metadata": {
  "kernelspec": {
   "display_name": ".venv",
   "language": "python",
   "name": "python3"
  },
  "language_info": {
   "codemirror_mode": {
    "name": "ipython",
    "version": 3
   },
   "file_extension": ".py",
   "mimetype": "text/x-python",
   "name": "python",
   "nbconvert_exporter": "python",
   "pygments_lexer": "ipython3",
   "version": "3.11.0"
  }
 },
 "nbformat": 4,
 "nbformat_minor": 2
}
